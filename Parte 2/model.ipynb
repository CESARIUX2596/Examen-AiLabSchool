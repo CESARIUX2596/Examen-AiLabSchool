{
 "cells": [
  {
   "attachments": {},
   "cell_type": "markdown",
   "metadata": {},
   "source": [
    "# Guitar Image Classification"
   ]
  },
  {
   "attachments": {},
   "cell_type": "markdown",
   "metadata": {},
   "source": [
    "### This notebook is part of the AiLab School AI cours. Contains the code to train a model to classify guitar images, part of the final project of the course.3\n",
    "\n",
    "The dataset used in this project is derivated from the publication Fuzzy Edge-Detection as a Preprocessing Layer in Deep Neural Networks for Guitar Classification, contains images of 6 different guitar types.\n",
    "<li>Acoustic</li>\n",
    "<li>Double Cut</li>\n",
    "<li>Single Cut</li>\n",
    "<li>S-Style</li>\n",
    "<li>T-Style</li>\n",
    "<li>Ukulele</li>\n",
    "The dataset was created from a web search and contains 900 images of each guitar type. The images were resized to 224x224 pixel."
   ]
  },
  {
   "cell_type": "code",
   "execution_count": 1,
   "metadata": {},
   "outputs": [],
   "source": [
    "# Tensorflow imports for CNN model\n",
    "import tensorflow as tf\n",
    "from tensorflow.keras.models import Sequential\n",
    "from tensorflow.keras.layers import Dense, Conv2D, MaxPooling2D, Flatten, Dropout, BatchNormalization\n",
    "from tensorflow.keras.preprocessing.image import ImageDataGenerator\n",
    "\n",
    "from utils import ProcessingUtils\n",
    "\n"
   ]
  },
  {
   "cell_type": "code",
   "execution_count": 4,
   "metadata": {},
   "outputs": [
    {
     "name": "stdout",
     "output_type": "stream",
     "text": [
      "Loading class Acoustic ...\n"
     ]
    },
    {
     "ename": "FileNotFoundError",
     "evalue": "[WinError 3] The system cannot find the path specified: 'Y://Datasets//CGD//CGD_no_split//Acoustic'",
     "output_type": "error",
     "traceback": [
      "\u001b[1;31m---------------------------------------------------------------------------\u001b[0m",
      "\u001b[1;31mFileNotFoundError\u001b[0m                         Traceback (most recent call last)",
      "Cell \u001b[1;32mIn[4], line 4\u001b[0m\n\u001b[0;32m      2\u001b[0m DATA_PATH \u001b[39m=\u001b[39m \u001b[39m'\u001b[39m\u001b[39mY://Datasets//CGD//CGD_no_split//\u001b[39m\u001b[39m'\u001b[39m\n\u001b[0;32m      3\u001b[0m CLASSES \u001b[39m=\u001b[39m [\u001b[39m'\u001b[39m\u001b[39mAcoustic\u001b[39m\u001b[39m'\u001b[39m, \u001b[39m'\u001b[39m\u001b[39mDouble_cut\u001b[39m\u001b[39m'\u001b[39m, \u001b[39m'\u001b[39m\u001b[39mSingle_cut\u001b[39m\u001b[39m'\u001b[39m, \u001b[39m'\u001b[39m\u001b[39mS_style\u001b[39m\u001b[39m'\u001b[39m, \u001b[39m'\u001b[39m\u001b[39mT_style\u001b[39m\u001b[39m'\u001b[39m, \u001b[39m'\u001b[39m\u001b[39mUkulele\u001b[39m\u001b[39m'\u001b[39m]\n\u001b[1;32m----> 4\u001b[0m X,y \u001b[39m=\u001b[39m ProcessingUtils\u001b[39m.\u001b[39;49mload_dataset(path\u001b[39m=\u001b[39;49mDATA_PATH, classes\u001b[39m=\u001b[39;49mCLASSES, img_size\u001b[39m=\u001b[39;49m(\u001b[39m224\u001b[39;49m, \u001b[39m224\u001b[39;49m), shuffle\u001b[39m=\u001b[39;49m\u001b[39mTrue\u001b[39;49;00m, verbose\u001b[39m=\u001b[39;49m\u001b[39mTrue\u001b[39;49;00m)\n",
      "File \u001b[1;32md:\\Develop\\Repos\\Examen-AiLabSchool\\Parte 2\\utils.py:19\u001b[0m, in \u001b[0;36mProcessingUtils.load_dataset\u001b[1;34m(path, classes, img_size, shuffle, verbose)\u001b[0m\n\u001b[0;32m     17\u001b[0m \u001b[39mif\u001b[39;00m verbose:\n\u001b[0;32m     18\u001b[0m     \u001b[39mprint\u001b[39m(\u001b[39m'\u001b[39m\u001b[39mLoading class\u001b[39m\u001b[39m'\u001b[39m, \u001b[39mcls\u001b[39m, \u001b[39m'\u001b[39m\u001b[39m...\u001b[39m\u001b[39m'\u001b[39m)\n\u001b[1;32m---> 19\u001b[0m \u001b[39mfor\u001b[39;00m img_name \u001b[39min\u001b[39;00m os\u001b[39m.\u001b[39;49mlistdir(path \u001b[39m+\u001b[39;49m \u001b[39mcls\u001b[39;49m):\n\u001b[0;32m     20\u001b[0m     img \u001b[39m=\u001b[39m cv2\u001b[39m.\u001b[39mimread(path \u001b[39m+\u001b[39m \u001b[39mcls\u001b[39m \u001b[39m+\u001b[39m \u001b[39m'\u001b[39m\u001b[39m/\u001b[39m\u001b[39m'\u001b[39m \u001b[39m+\u001b[39m img_name)\n\u001b[0;32m     21\u001b[0m     img \u001b[39m=\u001b[39m cv2\u001b[39m.\u001b[39mresize(img, img_size)\n",
      "\u001b[1;31mFileNotFoundError\u001b[0m: [WinError 3] The system cannot find the path specified: 'Y://Datasets//CGD//CGD_no_split//Acoustic'"
     ]
    }
   ],
   "source": [
    "# Load the dataset\n",
    "DATA_PATH = 'Y://Datasets//CGD//CGD_no_split//'\n",
    "CLASSES = ['Acoustic', 'Double_cut', 'Single_cut', 'S_style', 'T_style', 'Ukulele']\n",
    "X,y = ProcessingUtils.load_dataset(path=DATA_PATH, classes=CLASSES, img_size=(224, 224), shuffle=True, verbose=True)"
   ]
  }
 ],
 "metadata": {
  "kernelspec": {
   "display_name": "als_test",
   "language": "python",
   "name": "python3"
  },
  "language_info": {
   "codemirror_mode": {
    "name": "ipython",
    "version": 3
   },
   "file_extension": ".py",
   "mimetype": "text/x-python",
   "name": "python",
   "nbconvert_exporter": "python",
   "pygments_lexer": "ipython3",
   "version": "3.10.9"
  },
  "orig_nbformat": 4
 },
 "nbformat": 4,
 "nbformat_minor": 2
}
